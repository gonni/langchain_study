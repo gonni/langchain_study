{
 "cells": [
  {
   "cell_type": "code",
   "execution_count": 2,
   "metadata": {},
   "outputs": [
    {
     "name": "stdout",
     "output_type": "stream",
     "text": [
      "LangSmith 추적을 시작합니다.\n",
      "[프로젝트명]\n",
      "CH01-Basic\n"
     ]
    }
   ],
   "source": [
    "# API KEY를 환경변수로 관리하기 위한 설정 파일\n",
    "from dotenv import load_dotenv\n",
    "\n",
    "# API KEY 정보로드\n",
    "load_dotenv()\n",
    "\n",
    "# LangSmith 추적을 설정합니다. https://smith.langchain.com\n",
    "# !pip install -qU langchain-teddynote\n",
    "from langchain_teddynote import logging\n",
    "\n",
    "# 프로젝트 이름을 입력합니다.\n",
    "logging.langsmith(\"CH01-Basic\")\n",
    "\n"
   ]
  },
  {
   "cell_type": "code",
   "execution_count": 4,
   "metadata": {},
   "outputs": [
    {
     "name": "stdout",
     "output_type": "stream",
     "text": [
      "인공지능 모델의 학습 원리는 데이터를 입력으로 받아들이고 이를 기반으로 패턴을 학습하는 과정을 말합니다. 모델은 입력된 데이터를 분석하여 패턴을 찾아내고, 이를 기반으로 신규 데이터에 대한 예측이나 결정을 내립니다.\n",
      "\n",
      "학습 과정은 크게 입력층, 은닉층, 출력층으로 이루어진 신경망을 사용하는 경우가 많습니다. 데이터는 입력층을 통해 모델에 입력되고, 은닉층을 거쳐 출력층으로 전달됩니다. 이때 모델은 입력된 데이터와 실제 결과 간의 차이를 최소화하는 방향으로 학습을 진행합니다.\n",
      "\n",
      "모델은 학습 데이터를 여러 번 반복하여 학습을 진행하고, 이를 통해 최적의 가중치와 편향을 찾아내어 예측 또는 분류를 수행합니다. 이 과정에서 모델은 오차를 줄이기 위해 경사 하강법과 같은 최적화 알고리즘을 사용합니다."
     ]
    }
   ],
   "source": [
    "from langchain_teddynote.messages import stream_response  # 스트리밍 출력\n",
    "from langchain_core.prompts import PromptTemplate\n",
    "\n",
    "# template 정의\n",
    "# template = \"{country}의 수도는 어디인가요?\"\n",
    "\n",
    "# # from_template 메소드를 이용하여 PromptTemplate 객체 생성\n",
    "# prompt_template = PromptTemplate.from_template(template)\n",
    "# prompt_template\n",
    "\n",
    "from langchain_openai import ChatOpenAI\n",
    "\n",
    "model = ChatOpenAI(\n",
    "    model=\"gpt-3.5-turbo\",\n",
    "    max_tokens=2048,\n",
    "    temperature=0.1,\n",
    ")\n",
    "\n",
    "\n",
    "# prompt 를 PromptTemplate 객체로 생성합니다.\n",
    "prompt = PromptTemplate.from_template(\"{topic} 에 대해 쉽게 설명해주세요.\")\n",
    "\n",
    "model = ChatOpenAI()\n",
    "\n",
    "chain = prompt | model\n",
    "\n",
    "# input 딕셔너리에 주제를 '인공지능 모델의 학습 원리'으로 설정합니다.\n",
    "input = {\"topic\": \"인공지능 모델의 학습 원리\"}\n",
    "\n",
    "# prompt 객체와 model 객체를 파이프(|) 연산자로 연결하고 invoke 메서드를 사용하여 input을 전달합니다.\n",
    "# 이를 통해 AI 모델이 생성한 메시지를 반환합니다.\n",
    "# chain.invoke(input)\n",
    "\n",
    "# 스트리밍 출력을 위한 요청\n",
    "answer = chain.stream(input)\n",
    "# 스트리밍 출력\n",
    "stream_response(answer)\n"
   ]
  },
  {
   "cell_type": "code",
   "execution_count": 7,
   "metadata": {},
   "outputs": [
    {
     "name": "stdout",
     "output_type": "stream",
     "text": [
      "영어 회화:\n",
      "- Hello! I’d like to order a large pepperoni pizza with extra cheese, please.\n",
      "- Sure! Would you like to add anything else to your order?\n",
      "- Yes, can I also have an order of garlic bread and a 2-liter bottle of Coke?\n",
      "- Absolutely! Will that be for delivery or pickup?\n",
      "- Delivery, please.\n",
      "- Can I have your address and phone number?\n",
      "- It’s 123 Main Street, and my phone number is 555-0123.\n",
      "- Thank you! Your total comes to $28.50. It should take about 45 minutes for your delivery. Is there anything else I can help you with?\n",
      "- No, that’s all. Thank you!\n",
      "- You’re welcome! Enjoy your meal!\n",
      "\n",
      "한글 해석:\n",
      "- 안녕하세요! 큰 사이즈 페퍼로니 피자에 치즈를 추가해서 주문하고 싶습니다.\n",
      "- 네! 주문에 더 추가하실 건 있으신가요?\n",
      "- 네, 마늘 빵 하나와 2리터짜리 콜라도 주문할게요.\n",
      "- 알겠습니다! 배달로 하시겠어요, 아니면 직접 가지러 오시겠어요?\n",
      "- 배달로 부탁드립니다.\n",
      "- 주소와 전화번호를 알려주실 수 있나요?\n",
      "- 주소는 메인 스트리트 123번지고, 전화번호는 555-0123입니다.\n",
      "- 감사합니다! 총 금액은 28.50달러이며, 배달은 대략 45분 정도 걸릴 예정입니다. 더 도와드릴 일이 있으실까요?\n",
      "- 아니요, 이게 다입니다. 감사합니다!\n",
      "- 천만에요! 식사 맛있게 하세요!"
     ]
    }
   ],
   "source": [
    "from langchain_core.output_parsers import StrOutputParser\n",
    "\n",
    "output_parser = StrOutputParser()\n",
    "\n",
    "template = \"\"\"\n",
    "당신은 영어를 가르치는 10년차 영어 선생님입니다. 상황에 [FORMAT]에 영어 회화를 작성해 주세요.\n",
    "\n",
    "상황:\n",
    "{question}\n",
    "\n",
    "FORMAT:\n",
    "- 영어 회화:\n",
    "- 한글 해석:\n",
    "\"\"\"\n",
    "\n",
    "# 프롬프트 템플릿을 이용하여 프롬프트를 생성합니다.\n",
    "prompt = PromptTemplate.from_template(template)\n",
    "\n",
    "# ChatOpenAI 챗모델을 초기화합니다.\n",
    "model = ChatOpenAI(model_name=\"gpt-4-turbo\")\n",
    "\n",
    "# 문자열 출력 파서를 초기화합니다.\n",
    "output_parser = StrOutputParser()\n",
    "\n",
    "# 체인을 구성합니다.\n",
    "chain = prompt | model | output_parser\n",
    "\n",
    "# 완성된 Chain을 실행하여 답변을 얻습니다.\n",
    "# 스트리밍 출력을 위한 요청\n",
    "# answer = chain.stream({\"question\": \"저는 식당에 가서 음식을 주문하고 싶어요\"})\n",
    "# # 스트리밍 출력\n",
    "# stream_response(answer)\n",
    "\n",
    "# 이번에는 question 을 '미국에서 피자 주문'으로 설정하여 실행합니다.\n",
    "# 스트리밍 출력을 위한 요청\n",
    "answer = chain.stream({\"question\": \"미국에서 피자 주문\"})\n",
    "# 스트리밍 출력\n",
    "stream_response(answer)\n",
    "\n",
    "\n"
   ]
  }
 ],
 "metadata": {
  "kernelspec": {
   "display_name": "lc_env2",
   "language": "python",
   "name": "python3"
  },
  "language_info": {
   "codemirror_mode": {
    "name": "ipython",
    "version": 3
   },
   "file_extension": ".py",
   "mimetype": "text/x-python",
   "name": "python",
   "nbconvert_exporter": "python",
   "pygments_lexer": "ipython3",
   "version": "3.11.10"
  }
 },
 "nbformat": 4,
 "nbformat_minor": 2
}
